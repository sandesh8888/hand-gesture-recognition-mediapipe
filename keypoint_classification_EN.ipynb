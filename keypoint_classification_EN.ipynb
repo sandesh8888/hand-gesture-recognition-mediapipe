{
  "cells": [
    {
      "cell_type": "code",
      "execution_count": 23,
      "metadata": {
        "id": "igMyGnjE9hEp"
      },
      "outputs": [],
      "source": [
        "import csv\n",
        "\n",
        "import numpy as np\n",
        "import tensorflow as tf\n",
        "from sklearn.model_selection import train_test_split\n",
        "\n",
        "RANDOM_SEED = 42"
      ]
    },
    {
      "cell_type": "markdown",
      "metadata": {
        "id": "t2HDvhIu9hEr"
      },
      "source": [
        "# Specify each path"
      ]
    },
    {
      "cell_type": "code",
      "execution_count": 24,
      "metadata": {
        "id": "9NvZP2Zn9hEy"
      },
      "outputs": [],
      "source": [
        "dataset = 'model/keypoint_classifier/keypoint.csv'\n",
        "model_save_path = 'model/keypoint_classifier/keypoint_classifier.hdf5'\n",
        "tflite_save_path = 'model/keypoint_classifier/keypoint_classifier.tflite'"
      ]
    },
    {
      "cell_type": "markdown",
      "metadata": {
        "id": "s5oMH7x19hEz"
      },
      "source": [
        "# Set number of classes"
      ]
    },
    {
      "cell_type": "code",
      "execution_count": 25,
      "metadata": {
        "id": "du4kodXL9hEz"
      },
      "outputs": [],
      "source": [
        "NUM_CLASSES = 5"
      ]
    },
    {
      "cell_type": "markdown",
      "metadata": {
        "id": "XjnL0uso9hEz"
      },
      "source": [
        "# Dataset reading"
      ]
    },
    {
      "cell_type": "code",
      "execution_count": 26,
      "metadata": {
        "id": "QT5ZqtEz9hE0"
      },
      "outputs": [],
      "source": [
        "X_dataset = np.loadtxt(dataset, delimiter=',', dtype='float32', usecols=list(range(1, (21 * 2) + 1)))"
      ]
    },
    {
      "cell_type": "code",
      "execution_count": 27,
      "metadata": {
        "id": "QmoKFsp49hE0"
      },
      "outputs": [],
      "source": [
        "y_dataset = np.loadtxt(dataset, delimiter=',', dtype='int32', usecols=(0))"
      ]
    },
    {
      "cell_type": "code",
      "execution_count": 28,
      "metadata": {
        "id": "xQU7JTZ_9hE0"
      },
      "outputs": [],
      "source": [
        "X_train, X_test, y_train, y_test = train_test_split(X_dataset, y_dataset, train_size=0.75, random_state=RANDOM_SEED)"
      ]
    },
    {
      "cell_type": "markdown",
      "metadata": {
        "id": "mxK_lETT9hE0"
      },
      "source": [
        "# Model building"
      ]
    },
    {
      "cell_type": "code",
      "execution_count": 29,
      "metadata": {
        "id": "vHBmUf1t9hE1"
      },
      "outputs": [],
      "source": [
        "model = tf.keras.models.Sequential([\n",
        "    tf.keras.layers.Input((21 * 2, )),\n",
        "    tf.keras.layers.Dropout(0.2),\n",
        "    tf.keras.layers.Dense(20, activation='relu'),\n",
        "    tf.keras.layers.Dropout(0.4),\n",
        "    tf.keras.layers.Dense(10, activation='relu'),\n",
        "    tf.keras.layers.Dense(NUM_CLASSES, activation='softmax')\n",
        "])"
      ]
    },
    {
      "cell_type": "code",
      "execution_count": 30,
      "metadata": {
        "colab": {
          "base_uri": "https://localhost:8080/"
        },
        "id": "ypqky9tc9hE1",
        "outputId": "5db082bb-30e3-4110-bf63-a1ee777ecd46"
      },
      "outputs": [
        {
          "name": "stdout",
          "output_type": "stream",
          "text": [
            "Model: \"sequential_1\"\n",
            "_________________________________________________________________\n",
            " Layer (type)                Output Shape              Param #   \n",
            "=================================================================\n",
            " dropout_2 (Dropout)         (None, 42)                0         \n",
            "                                                                 \n",
            " dense_3 (Dense)             (None, 20)                860       \n",
            "                                                                 \n",
            " dropout_3 (Dropout)         (None, 20)                0         \n",
            "                                                                 \n",
            " dense_4 (Dense)             (None, 10)                210       \n",
            "                                                                 \n",
            " dense_5 (Dense)             (None, 5)                 55        \n",
            "                                                                 \n",
            "=================================================================\n",
            "Total params: 1,125\n",
            "Trainable params: 1,125\n",
            "Non-trainable params: 0\n",
            "_________________________________________________________________\n"
          ]
        }
      ],
      "source": [
        "model.summary()  # tf.keras.utils.plot_model(model, show_shapes=True)"
      ]
    },
    {
      "cell_type": "code",
      "execution_count": 31,
      "metadata": {
        "id": "MbMjOflQ9hE1"
      },
      "outputs": [],
      "source": [
        "# Model checkpoint callback\n",
        "cp_callback = tf.keras.callbacks.ModelCheckpoint(\n",
        "    model_save_path, verbose=1, save_weights_only=False)\n",
        "# Callback for early stopping\n",
        "es_callback = tf.keras.callbacks.EarlyStopping(patience=20, verbose=1)"
      ]
    },
    {
      "cell_type": "code",
      "execution_count": 32,
      "metadata": {
        "id": "c3Dac0M_9hE2"
      },
      "outputs": [],
      "source": [
        "# Model compilation\n",
        "model.compile(\n",
        "    optimizer='adam',\n",
        "    loss='sparse_categorical_crossentropy',\n",
        "    metrics=['accuracy']\n",
        ")"
      ]
    },
    {
      "cell_type": "markdown",
      "metadata": {
        "id": "7XI0j1Iu9hE2"
      },
      "source": [
        "# Model training"
      ]
    },
    {
      "cell_type": "code",
      "execution_count": 33,
      "metadata": {
        "colab": {
          "base_uri": "https://localhost:8080/"
        },
        "id": "WirBl-JE9hE3",
        "outputId": "71b30ca2-8294-4d9d-8aa2-800d90d399de",
        "scrolled": true
      },
      "outputs": [
        {
          "name": "stdout",
          "output_type": "stream",
          "text": [
            "Epoch 1/500\n",
            "73/76 [===========================>..] - ETA: 0s - loss: 1.5628 - accuracy: 0.3313\n",
            "Epoch 1: saving model to model/keypoint_classifier\\keypoint_classifier.hdf5\n",
            "76/76 [==============================] - 1s 6ms/step - loss: 1.5593 - accuracy: 0.3331 - val_loss: 1.4297 - val_accuracy: 0.4309\n",
            "Epoch 2/500\n",
            "67/76 [=========================>....] - ETA: 0s - loss: 1.4204 - accuracy: 0.3864\n",
            "Epoch 2: saving model to model/keypoint_classifier\\keypoint_classifier.hdf5\n",
            "76/76 [==============================] - 0s 4ms/step - loss: 1.4160 - accuracy: 0.3889 - val_loss: 1.2932 - val_accuracy: 0.4644\n",
            "Epoch 3/500\n",
            "74/76 [============================>.] - ETA: 0s - loss: 1.3244 - accuracy: 0.4276\n",
            "Epoch 3: saving model to model/keypoint_classifier\\keypoint_classifier.hdf5\n",
            "76/76 [==============================] - 0s 4ms/step - loss: 1.3238 - accuracy: 0.4290 - val_loss: 1.1992 - val_accuracy: 0.5536\n",
            "Epoch 4/500\n",
            "76/76 [==============================] - ETA: 0s - loss: 1.2529 - accuracy: 0.4755\n",
            "Epoch 4: saving model to model/keypoint_classifier\\keypoint_classifier.hdf5\n",
            "76/76 [==============================] - 0s 4ms/step - loss: 1.2529 - accuracy: 0.4755 - val_loss: 1.1054 - val_accuracy: 0.5958\n",
            "Epoch 5/500\n",
            "70/76 [==========================>...] - ETA: 0s - loss: 1.1598 - accuracy: 0.5109\n",
            "Epoch 5: saving model to model/keypoint_classifier\\keypoint_classifier.hdf5\n",
            "76/76 [==============================] - 0s 4ms/step - loss: 1.1595 - accuracy: 0.5121 - val_loss: 1.0081 - val_accuracy: 0.6553\n",
            "Epoch 6/500\n",
            "73/76 [===========================>..] - ETA: 0s - loss: 1.0971 - accuracy: 0.5355\n",
            "Epoch 6: saving model to model/keypoint_classifier\\keypoint_classifier.hdf5\n",
            "76/76 [==============================] - 0s 3ms/step - loss: 1.0940 - accuracy: 0.5371 - val_loss: 0.9038 - val_accuracy: 0.7080\n",
            "Epoch 7/500\n",
            "72/76 [===========================>..] - ETA: 0s - loss: 1.0517 - accuracy: 0.5571\n",
            "Epoch 7: saving model to model/keypoint_classifier\\keypoint_classifier.hdf5\n",
            "76/76 [==============================] - 0s 4ms/step - loss: 1.0483 - accuracy: 0.5590 - val_loss: 0.8082 - val_accuracy: 0.8301\n",
            "Epoch 8/500\n",
            "57/76 [=====================>........] - ETA: 0s - loss: 0.9883 - accuracy: 0.5866\n",
            "Epoch 8: saving model to model/keypoint_classifier\\keypoint_classifier.hdf5\n",
            "76/76 [==============================] - 0s 4ms/step - loss: 0.9819 - accuracy: 0.5888 - val_loss: 0.7244 - val_accuracy: 0.8679\n",
            "Epoch 9/500\n",
            "69/76 [==========================>...] - ETA: 0s - loss: 0.9238 - accuracy: 0.6216\n",
            "Epoch 9: saving model to model/keypoint_classifier\\keypoint_classifier.hdf5\n",
            "76/76 [==============================] - 0s 4ms/step - loss: 0.9241 - accuracy: 0.6210 - val_loss: 0.6575 - val_accuracy: 0.8872\n",
            "Epoch 10/500\n",
            "60/76 [======================>.......] - ETA: 0s - loss: 0.9190 - accuracy: 0.6174\n",
            "Epoch 10: saving model to model/keypoint_classifier\\keypoint_classifier.hdf5\n",
            "76/76 [==============================] - 0s 3ms/step - loss: 0.9185 - accuracy: 0.6185 - val_loss: 0.6199 - val_accuracy: 0.8983\n",
            "Epoch 11/500\n",
            "72/76 [===========================>..] - ETA: 0s - loss: 0.8720 - accuracy: 0.6447\n",
            "Epoch 11: saving model to model/keypoint_classifier\\keypoint_classifier.hdf5\n",
            "76/76 [==============================] - 0s 3ms/step - loss: 0.8707 - accuracy: 0.6464 - val_loss: 0.5774 - val_accuracy: 0.9014\n",
            "Epoch 12/500\n",
            "74/76 [============================>.] - ETA: 0s - loss: 0.8459 - accuracy: 0.6658\n",
            "Epoch 12: saving model to model/keypoint_classifier\\keypoint_classifier.hdf5\n",
            "76/76 [==============================] - 0s 4ms/step - loss: 0.8459 - accuracy: 0.6663 - val_loss: 0.5434 - val_accuracy: 0.8952\n",
            "Epoch 13/500\n",
            "72/76 [===========================>..] - ETA: 0s - loss: 0.8238 - accuracy: 0.6780\n",
            "Epoch 13: saving model to model/keypoint_classifier\\keypoint_classifier.hdf5\n",
            "76/76 [==============================] - 0s 4ms/step - loss: 0.8253 - accuracy: 0.6770 - val_loss: 0.5133 - val_accuracy: 0.9064\n",
            "Epoch 14/500\n",
            "52/76 [===================>..........] - ETA: 0s - loss: 0.8036 - accuracy: 0.6743\n",
            "Epoch 14: saving model to model/keypoint_classifier\\keypoint_classifier.hdf5\n",
            "76/76 [==============================] - 0s 4ms/step - loss: 0.7978 - accuracy: 0.6791 - val_loss: 0.4872 - val_accuracy: 0.9101\n",
            "Epoch 15/500\n",
            "49/76 [==================>...........] - ETA: 0s - loss: 0.8090 - accuracy: 0.6741\n",
            "Epoch 15: saving model to model/keypoint_classifier\\keypoint_classifier.hdf5\n",
            "76/76 [==============================] - 0s 3ms/step - loss: 0.7994 - accuracy: 0.6789 - val_loss: 0.4683 - val_accuracy: 0.9157\n",
            "Epoch 16/500\n",
            "59/76 [======================>.......] - ETA: 0s - loss: 0.7729 - accuracy: 0.6915\n",
            "Epoch 16: saving model to model/keypoint_classifier\\keypoint_classifier.hdf5\n",
            "76/76 [==============================] - 0s 3ms/step - loss: 0.7705 - accuracy: 0.6956 - val_loss: 0.4448 - val_accuracy: 0.9107\n",
            "Epoch 17/500\n",
            "67/76 [=========================>....] - ETA: 0s - loss: 0.7743 - accuracy: 0.6982\n",
            "Epoch 17: saving model to model/keypoint_classifier\\keypoint_classifier.hdf5\n",
            "76/76 [==============================] - 0s 4ms/step - loss: 0.7731 - accuracy: 0.6993 - val_loss: 0.4382 - val_accuracy: 0.9151\n",
            "Epoch 18/500\n",
            "65/76 [========================>.....] - ETA: 0s - loss: 0.7652 - accuracy: 0.7026\n",
            "Epoch 18: saving model to model/keypoint_classifier\\keypoint_classifier.hdf5\n",
            "76/76 [==============================] - 0s 4ms/step - loss: 0.7580 - accuracy: 0.7082 - val_loss: 0.4189 - val_accuracy: 0.9219\n",
            "Epoch 19/500\n",
            "73/76 [===========================>..] - ETA: 0s - loss: 0.7217 - accuracy: 0.7207\n",
            "Epoch 19: saving model to model/keypoint_classifier\\keypoint_classifier.hdf5\n",
            "76/76 [==============================] - 0s 4ms/step - loss: 0.7214 - accuracy: 0.7212 - val_loss: 0.4023 - val_accuracy: 0.9237\n",
            "Epoch 20/500\n",
            "53/76 [===================>..........] - ETA: 0s - loss: 0.7183 - accuracy: 0.7252\n",
            "Epoch 20: saving model to model/keypoint_classifier\\keypoint_classifier.hdf5\n",
            "76/76 [==============================] - 0s 4ms/step - loss: 0.7191 - accuracy: 0.7256 - val_loss: 0.3904 - val_accuracy: 0.9237\n",
            "Epoch 21/500\n",
            "51/76 [===================>..........] - ETA: 0s - loss: 0.7324 - accuracy: 0.7059\n",
            "Epoch 21: saving model to model/keypoint_classifier\\keypoint_classifier.hdf5\n",
            "76/76 [==============================] - 0s 3ms/step - loss: 0.7226 - accuracy: 0.7148 - val_loss: 0.3803 - val_accuracy: 0.9194\n",
            "Epoch 22/500\n",
            "68/76 [=========================>....] - ETA: 0s - loss: 0.7043 - accuracy: 0.7358\n",
            "Epoch 22: saving model to model/keypoint_classifier\\keypoint_classifier.hdf5\n",
            "76/76 [==============================] - 0s 4ms/step - loss: 0.7047 - accuracy: 0.7326 - val_loss: 0.3705 - val_accuracy: 0.9337\n",
            "Epoch 23/500\n",
            "46/76 [=================>............] - ETA: 0s - loss: 0.7102 - accuracy: 0.7279\n",
            "Epoch 23: saving model to model/keypoint_classifier\\keypoint_classifier.hdf5\n",
            "76/76 [==============================] - 0s 3ms/step - loss: 0.7007 - accuracy: 0.7291 - val_loss: 0.3596 - val_accuracy: 0.9343\n",
            "Epoch 24/500\n",
            "48/76 [=================>............] - ETA: 0s - loss: 0.7030 - accuracy: 0.7363\n",
            "Epoch 24: saving model to model/keypoint_classifier\\keypoint_classifier.hdf5\n",
            "76/76 [==============================] - 0s 3ms/step - loss: 0.7040 - accuracy: 0.7355 - val_loss: 0.3542 - val_accuracy: 0.9355\n",
            "Epoch 25/500\n",
            "48/76 [=================>............] - ETA: 0s - loss: 0.6840 - accuracy: 0.7435\n",
            "Epoch 25: saving model to model/keypoint_classifier\\keypoint_classifier.hdf5\n",
            "76/76 [==============================] - 0s 4ms/step - loss: 0.6744 - accuracy: 0.7493 - val_loss: 0.3440 - val_accuracy: 0.9374\n",
            "Epoch 26/500\n",
            "53/76 [===================>..........] - ETA: 0s - loss: 0.6892 - accuracy: 0.7415\n",
            "Epoch 26: saving model to model/keypoint_classifier\\keypoint_classifier.hdf5\n",
            "76/76 [==============================] - 0s 3ms/step - loss: 0.6843 - accuracy: 0.7415 - val_loss: 0.3354 - val_accuracy: 0.9312\n",
            "Epoch 27/500\n",
            "70/76 [==========================>...] - ETA: 0s - loss: 0.6735 - accuracy: 0.7487\n",
            "Epoch 27: saving model to model/keypoint_classifier\\keypoint_classifier.hdf5\n",
            "76/76 [==============================] - 0s 4ms/step - loss: 0.6765 - accuracy: 0.7471 - val_loss: 0.3291 - val_accuracy: 0.9324\n",
            "Epoch 28/500\n",
            "76/76 [==============================] - ETA: 0s - loss: 0.6459 - accuracy: 0.7568\n",
            "Epoch 28: saving model to model/keypoint_classifier\\keypoint_classifier.hdf5\n",
            "76/76 [==============================] - 0s 3ms/step - loss: 0.6459 - accuracy: 0.7568 - val_loss: 0.3218 - val_accuracy: 0.9430\n",
            "Epoch 29/500\n",
            "67/76 [=========================>....] - ETA: 0s - loss: 0.6407 - accuracy: 0.7579\n",
            "Epoch 29: saving model to model/keypoint_classifier\\keypoint_classifier.hdf5\n",
            "76/76 [==============================] - 0s 4ms/step - loss: 0.6444 - accuracy: 0.7597 - val_loss: 0.3197 - val_accuracy: 0.9454\n",
            "Epoch 30/500\n",
            "75/76 [============================>.] - ETA: 0s - loss: 0.6426 - accuracy: 0.7629\n",
            "Epoch 30: saving model to model/keypoint_classifier\\keypoint_classifier.hdf5\n",
            "76/76 [==============================] - 0s 4ms/step - loss: 0.6425 - accuracy: 0.7632 - val_loss: 0.3098 - val_accuracy: 0.9423\n",
            "Epoch 31/500\n",
            "75/76 [============================>.] - ETA: 0s - loss: 0.6392 - accuracy: 0.7652\n",
            "Epoch 31: saving model to model/keypoint_classifier\\keypoint_classifier.hdf5\n",
            "76/76 [==============================] - 0s 4ms/step - loss: 0.6396 - accuracy: 0.7646 - val_loss: 0.3025 - val_accuracy: 0.9386\n",
            "Epoch 32/500\n",
            "50/76 [==================>...........] - ETA: 0s - loss: 0.6287 - accuracy: 0.7584\n",
            "Epoch 32: saving model to model/keypoint_classifier\\keypoint_classifier.hdf5\n",
            "76/76 [==============================] - 0s 3ms/step - loss: 0.6300 - accuracy: 0.7576 - val_loss: 0.2991 - val_accuracy: 0.9417\n",
            "Epoch 33/500\n",
            "72/76 [===========================>..] - ETA: 0s - loss: 0.6375 - accuracy: 0.7569\n",
            "Epoch 33: saving model to model/keypoint_classifier\\keypoint_classifier.hdf5\n",
            "76/76 [==============================] - 0s 4ms/step - loss: 0.6356 - accuracy: 0.7584 - val_loss: 0.2947 - val_accuracy: 0.9430\n",
            "Epoch 34/500\n",
            "53/76 [===================>..........] - ETA: 0s - loss: 0.6172 - accuracy: 0.7686\n",
            "Epoch 34: saving model to model/keypoint_classifier\\keypoint_classifier.hdf5\n",
            "76/76 [==============================] - 0s 3ms/step - loss: 0.6120 - accuracy: 0.7731 - val_loss: 0.2845 - val_accuracy: 0.9492\n",
            "Epoch 35/500\n",
            "47/76 [=================>............] - ETA: 0s - loss: 0.6140 - accuracy: 0.7703\n",
            "Epoch 35: saving model to model/keypoint_classifier\\keypoint_classifier.hdf5\n",
            "76/76 [==============================] - 0s 3ms/step - loss: 0.6041 - accuracy: 0.7739 - val_loss: 0.2833 - val_accuracy: 0.9343\n",
            "Epoch 36/500\n",
            "73/76 [===========================>..] - ETA: 0s - loss: 0.6126 - accuracy: 0.7744\n",
            "Epoch 36: saving model to model/keypoint_classifier\\keypoint_classifier.hdf5\n",
            "76/76 [==============================] - 0s 4ms/step - loss: 0.6120 - accuracy: 0.7750 - val_loss: 0.2782 - val_accuracy: 0.9473\n",
            "Epoch 37/500\n",
            "68/76 [=========================>....] - ETA: 0s - loss: 0.6126 - accuracy: 0.7790\n",
            "Epoch 37: saving model to model/keypoint_classifier\\keypoint_classifier.hdf5\n",
            "76/76 [==============================] - 0s 3ms/step - loss: 0.6174 - accuracy: 0.7789 - val_loss: 0.2715 - val_accuracy: 0.9492\n",
            "Epoch 38/500\n",
            "65/76 [========================>.....] - ETA: 0s - loss: 0.6207 - accuracy: 0.7733\n",
            "Epoch 38: saving model to model/keypoint_classifier\\keypoint_classifier.hdf5\n",
            "76/76 [==============================] - 0s 4ms/step - loss: 0.6238 - accuracy: 0.7731 - val_loss: 0.2763 - val_accuracy: 0.9430\n",
            "Epoch 39/500\n",
            "54/76 [====================>.........] - ETA: 0s - loss: 0.6080 - accuracy: 0.7734\n",
            "Epoch 39: saving model to model/keypoint_classifier\\keypoint_classifier.hdf5\n",
            "76/76 [==============================] - 0s 3ms/step - loss: 0.5964 - accuracy: 0.7828 - val_loss: 0.2649 - val_accuracy: 0.9547\n",
            "Epoch 40/500\n",
            "69/76 [==========================>...] - ETA: 0s - loss: 0.6162 - accuracy: 0.7792\n",
            "Epoch 40: saving model to model/keypoint_classifier\\keypoint_classifier.hdf5\n",
            "76/76 [==============================] - 0s 4ms/step - loss: 0.6167 - accuracy: 0.7797 - val_loss: 0.2670 - val_accuracy: 0.9560\n",
            "Epoch 41/500\n",
            "56/76 [=====================>........] - ETA: 0s - loss: 0.5828 - accuracy: 0.7852\n",
            "Epoch 41: saving model to model/keypoint_classifier\\keypoint_classifier.hdf5\n",
            "76/76 [==============================] - 0s 3ms/step - loss: 0.5968 - accuracy: 0.7781 - val_loss: 0.2631 - val_accuracy: 0.9622\n",
            "Epoch 42/500\n",
            "61/76 [=======================>......] - ETA: 0s - loss: 0.5954 - accuracy: 0.7754\n",
            "Epoch 42: saving model to model/keypoint_classifier\\keypoint_classifier.hdf5\n",
            "76/76 [==============================] - 0s 4ms/step - loss: 0.5920 - accuracy: 0.7766 - val_loss: 0.2600 - val_accuracy: 0.9634\n",
            "Epoch 43/500\n",
            "55/76 [====================>.........] - ETA: 0s - loss: 0.5880 - accuracy: 0.7852\n",
            "Epoch 43: saving model to model/keypoint_classifier\\keypoint_classifier.hdf5\n",
            "76/76 [==============================] - 0s 4ms/step - loss: 0.5983 - accuracy: 0.7830 - val_loss: 0.2674 - val_accuracy: 0.9498\n",
            "Epoch 44/500\n",
            "74/76 [============================>.] - ETA: 0s - loss: 0.5752 - accuracy: 0.7878\n",
            "Epoch 44: saving model to model/keypoint_classifier\\keypoint_classifier.hdf5\n",
            "76/76 [==============================] - 0s 3ms/step - loss: 0.5739 - accuracy: 0.7882 - val_loss: 0.2546 - val_accuracy: 0.9572\n",
            "Epoch 45/500\n",
            "51/76 [===================>..........] - ETA: 0s - loss: 0.5770 - accuracy: 0.7904\n",
            "Epoch 45: saving model to model/keypoint_classifier\\keypoint_classifier.hdf5\n",
            "76/76 [==============================] - 0s 3ms/step - loss: 0.5781 - accuracy: 0.7888 - val_loss: 0.2468 - val_accuracy: 0.9591\n",
            "Epoch 46/500\n",
            "68/76 [=========================>....] - ETA: 0s - loss: 0.5687 - accuracy: 0.7943\n",
            "Epoch 46: saving model to model/keypoint_classifier\\keypoint_classifier.hdf5\n",
            "76/76 [==============================] - 0s 3ms/step - loss: 0.5675 - accuracy: 0.7946 - val_loss: 0.2458 - val_accuracy: 0.9547\n",
            "Epoch 47/500\n",
            "52/76 [===================>..........] - ETA: 0s - loss: 0.5870 - accuracy: 0.7870\n",
            "Epoch 47: saving model to model/keypoint_classifier\\keypoint_classifier.hdf5\n",
            "76/76 [==============================] - 0s 4ms/step - loss: 0.5798 - accuracy: 0.7884 - val_loss: 0.2484 - val_accuracy: 0.9609\n",
            "Epoch 48/500\n",
            "53/76 [===================>..........] - ETA: 0s - loss: 0.5802 - accuracy: 0.7871\n",
            "Epoch 48: saving model to model/keypoint_classifier\\keypoint_classifier.hdf5\n",
            "76/76 [==============================] - 0s 3ms/step - loss: 0.5736 - accuracy: 0.7909 - val_loss: 0.2399 - val_accuracy: 0.9647\n",
            "Epoch 49/500\n",
            "74/76 [============================>.] - ETA: 0s - loss: 0.5858 - accuracy: 0.7884\n",
            "Epoch 49: saving model to model/keypoint_classifier\\keypoint_classifier.hdf5\n",
            "76/76 [==============================] - 0s 3ms/step - loss: 0.5848 - accuracy: 0.7886 - val_loss: 0.2571 - val_accuracy: 0.9591\n",
            "Epoch 50/500\n",
            "73/76 [===========================>..] - ETA: 0s - loss: 0.5805 - accuracy: 0.7887\n",
            "Epoch 50: saving model to model/keypoint_classifier\\keypoint_classifier.hdf5\n",
            "76/76 [==============================] - 0s 4ms/step - loss: 0.5783 - accuracy: 0.7888 - val_loss: 0.2465 - val_accuracy: 0.9628\n",
            "Epoch 51/500\n",
            "75/76 [============================>.] - ETA: 0s - loss: 0.5683 - accuracy: 0.7919\n",
            "Epoch 51: saving model to model/keypoint_classifier\\keypoint_classifier.hdf5\n",
            "76/76 [==============================] - 0s 4ms/step - loss: 0.5666 - accuracy: 0.7925 - val_loss: 0.2416 - val_accuracy: 0.9647\n",
            "Epoch 52/500\n",
            "71/76 [===========================>..] - ETA: 0s - loss: 0.5787 - accuracy: 0.7923\n",
            "Epoch 52: saving model to model/keypoint_classifier\\keypoint_classifier.hdf5\n",
            "76/76 [==============================] - 0s 4ms/step - loss: 0.5755 - accuracy: 0.7919 - val_loss: 0.2449 - val_accuracy: 0.9640\n",
            "Epoch 53/500\n",
            "57/76 [=====================>........] - ETA: 0s - loss: 0.5615 - accuracy: 0.7941\n",
            "Epoch 53: saving model to model/keypoint_classifier\\keypoint_classifier.hdf5\n",
            "76/76 [==============================] - 0s 3ms/step - loss: 0.5589 - accuracy: 0.7923 - val_loss: 0.2360 - val_accuracy: 0.9653\n",
            "Epoch 54/500\n",
            "71/76 [===========================>..] - ETA: 0s - loss: 0.5662 - accuracy: 0.7907\n",
            "Epoch 54: saving model to model/keypoint_classifier\\keypoint_classifier.hdf5\n",
            "76/76 [==============================] - 0s 4ms/step - loss: 0.5676 - accuracy: 0.7902 - val_loss: 0.2417 - val_accuracy: 0.9684\n",
            "Epoch 55/500\n",
            "69/76 [==========================>...] - ETA: 0s - loss: 0.5505 - accuracy: 0.7973\n",
            "Epoch 55: saving model to model/keypoint_classifier\\keypoint_classifier.hdf5\n",
            "76/76 [==============================] - 0s 3ms/step - loss: 0.5471 - accuracy: 0.7987 - val_loss: 0.2326 - val_accuracy: 0.9622\n",
            "Epoch 56/500\n",
            "65/76 [========================>.....] - ETA: 0s - loss: 0.5542 - accuracy: 0.7918\n",
            "Epoch 56: saving model to model/keypoint_classifier\\keypoint_classifier.hdf5\n",
            "76/76 [==============================] - 0s 4ms/step - loss: 0.5475 - accuracy: 0.7944 - val_loss: 0.2295 - val_accuracy: 0.9634\n",
            "Epoch 57/500\n",
            "69/76 [==========================>...] - ETA: 0s - loss: 0.5481 - accuracy: 0.8028\n",
            "Epoch 57: saving model to model/keypoint_classifier\\keypoint_classifier.hdf5\n",
            "76/76 [==============================] - 0s 4ms/step - loss: 0.5461 - accuracy: 0.8035 - val_loss: 0.2339 - val_accuracy: 0.9616\n",
            "Epoch 58/500\n",
            "69/76 [==========================>...] - ETA: 0s - loss: 0.5411 - accuracy: 0.8050\n",
            "Epoch 58: saving model to model/keypoint_classifier\\keypoint_classifier.hdf5\n",
            "76/76 [==============================] - 0s 3ms/step - loss: 0.5428 - accuracy: 0.8041 - val_loss: 0.2342 - val_accuracy: 0.9640\n",
            "Epoch 59/500\n",
            "74/76 [============================>.] - ETA: 0s - loss: 0.5485 - accuracy: 0.8000\n",
            "Epoch 59: saving model to model/keypoint_classifier\\keypoint_classifier.hdf5\n",
            "76/76 [==============================] - 0s 4ms/step - loss: 0.5480 - accuracy: 0.8004 - val_loss: 0.2271 - val_accuracy: 0.9709\n",
            "Epoch 60/500\n",
            "51/76 [===================>..........] - ETA: 0s - loss: 0.5527 - accuracy: 0.8055\n",
            "Epoch 60: saving model to model/keypoint_classifier\\keypoint_classifier.hdf5\n",
            "76/76 [==============================] - 0s 3ms/step - loss: 0.5519 - accuracy: 0.8049 - val_loss: 0.2286 - val_accuracy: 0.9702\n",
            "Epoch 61/500\n",
            "76/76 [==============================] - ETA: 0s - loss: 0.5409 - accuracy: 0.7971\n",
            "Epoch 61: saving model to model/keypoint_classifier\\keypoint_classifier.hdf5\n",
            "76/76 [==============================] - 0s 3ms/step - loss: 0.5409 - accuracy: 0.7971 - val_loss: 0.2248 - val_accuracy: 0.9647\n",
            "Epoch 62/500\n",
            "76/76 [==============================] - ETA: 0s - loss: 0.5604 - accuracy: 0.7940\n",
            "Epoch 62: saving model to model/keypoint_classifier\\keypoint_classifier.hdf5\n",
            "76/76 [==============================] - 0s 4ms/step - loss: 0.5604 - accuracy: 0.7940 - val_loss: 0.2250 - val_accuracy: 0.9715\n",
            "Epoch 63/500\n",
            "76/76 [==============================] - ETA: 0s - loss: 0.5199 - accuracy: 0.8157\n",
            "Epoch 63: saving model to model/keypoint_classifier\\keypoint_classifier.hdf5\n",
            "76/76 [==============================] - 0s 3ms/step - loss: 0.5199 - accuracy: 0.8157 - val_loss: 0.2244 - val_accuracy: 0.9684\n",
            "Epoch 64/500\n",
            "48/76 [=================>............] - ETA: 0s - loss: 0.5553 - accuracy: 0.7992\n",
            "Epoch 64: saving model to model/keypoint_classifier\\keypoint_classifier.hdf5\n",
            "76/76 [==============================] - 0s 3ms/step - loss: 0.5433 - accuracy: 0.8082 - val_loss: 0.2257 - val_accuracy: 0.9659\n",
            "Epoch 65/500\n",
            "49/76 [==================>...........] - ETA: 0s - loss: 0.5444 - accuracy: 0.8036\n",
            "Epoch 65: saving model to model/keypoint_classifier\\keypoint_classifier.hdf5\n",
            "76/76 [==============================] - 0s 3ms/step - loss: 0.5470 - accuracy: 0.8014 - val_loss: 0.2325 - val_accuracy: 0.9622\n",
            "Epoch 66/500\n",
            "71/76 [===========================>..] - ETA: 0s - loss: 0.5524 - accuracy: 0.8033\n",
            "Epoch 66: saving model to model/keypoint_classifier\\keypoint_classifier.hdf5\n",
            "76/76 [==============================] - 0s 4ms/step - loss: 0.5514 - accuracy: 0.8035 - val_loss: 0.2257 - val_accuracy: 0.9684\n",
            "Epoch 67/500\n",
            "51/76 [===================>..........] - ETA: 0s - loss: 0.5046 - accuracy: 0.8211\n",
            "Epoch 67: saving model to model/keypoint_classifier\\keypoint_classifier.hdf5\n",
            "76/76 [==============================] - 0s 3ms/step - loss: 0.5137 - accuracy: 0.8161 - val_loss: 0.2249 - val_accuracy: 0.9684\n",
            "Epoch 68/500\n",
            "56/76 [=====================>........] - ETA: 0s - loss: 0.5340 - accuracy: 0.8019\n",
            "Epoch 68: saving model to model/keypoint_classifier\\keypoint_classifier.hdf5\n",
            "76/76 [==============================] - 0s 3ms/step - loss: 0.5291 - accuracy: 0.8082 - val_loss: 0.2272 - val_accuracy: 0.9616\n",
            "Epoch 69/500\n",
            "54/76 [====================>.........] - ETA: 0s - loss: 0.5551 - accuracy: 0.8018\n",
            "Epoch 69: saving model to model/keypoint_classifier\\keypoint_classifier.hdf5\n",
            "76/76 [==============================] - 0s 3ms/step - loss: 0.5446 - accuracy: 0.8068 - val_loss: 0.2278 - val_accuracy: 0.9640\n",
            "Epoch 70/500\n",
            "70/76 [==========================>...] - ETA: 0s - loss: 0.5507 - accuracy: 0.8042\n",
            "Epoch 70: saving model to model/keypoint_classifier\\keypoint_classifier.hdf5\n",
            "76/76 [==============================] - 0s 4ms/step - loss: 0.5490 - accuracy: 0.8049 - val_loss: 0.2259 - val_accuracy: 0.9678\n",
            "Epoch 71/500\n",
            "47/76 [=================>............] - ETA: 0s - loss: 0.5336 - accuracy: 0.8125\n",
            "Epoch 71: saving model to model/keypoint_classifier\\keypoint_classifier.hdf5\n",
            "76/76 [==============================] - 0s 3ms/step - loss: 0.5355 - accuracy: 0.8107 - val_loss: 0.2293 - val_accuracy: 0.9665\n",
            "Epoch 72/500\n",
            "49/76 [==================>...........] - ETA: 0s - loss: 0.5345 - accuracy: 0.8033\n",
            "Epoch 72: saving model to model/keypoint_classifier\\keypoint_classifier.hdf5\n",
            "76/76 [==============================] - 0s 3ms/step - loss: 0.5342 - accuracy: 0.8035 - val_loss: 0.2211 - val_accuracy: 0.9721\n",
            "Epoch 73/500\n",
            "51/76 [===================>..........] - ETA: 0s - loss: 0.5311 - accuracy: 0.8088\n",
            "Epoch 73: saving model to model/keypoint_classifier\\keypoint_classifier.hdf5\n",
            "76/76 [==============================] - 0s 3ms/step - loss: 0.5421 - accuracy: 0.8047 - val_loss: 0.2295 - val_accuracy: 0.9678\n",
            "Epoch 74/500\n",
            "75/76 [============================>.] - ETA: 0s - loss: 0.5346 - accuracy: 0.8108\n",
            "Epoch 74: saving model to model/keypoint_classifier\\keypoint_classifier.hdf5\n",
            "76/76 [==============================] - 0s 4ms/step - loss: 0.5340 - accuracy: 0.8109 - val_loss: 0.2274 - val_accuracy: 0.9684\n",
            "Epoch 75/500\n",
            "50/76 [==================>...........] - ETA: 0s - loss: 0.5469 - accuracy: 0.8034\n",
            "Epoch 75: saving model to model/keypoint_classifier\\keypoint_classifier.hdf5\n",
            "76/76 [==============================] - 0s 3ms/step - loss: 0.5412 - accuracy: 0.8082 - val_loss: 0.2191 - val_accuracy: 0.9690\n",
            "Epoch 76/500\n",
            "47/76 [=================>............] - ETA: 0s - loss: 0.5237 - accuracy: 0.8092\n",
            "Epoch 76: saving model to model/keypoint_classifier\\keypoint_classifier.hdf5\n",
            "76/76 [==============================] - 0s 3ms/step - loss: 0.5440 - accuracy: 0.8049 - val_loss: 0.2203 - val_accuracy: 0.9727\n",
            "Epoch 77/500\n",
            "66/76 [=========================>....] - ETA: 0s - loss: 0.5274 - accuracy: 0.8113\n",
            "Epoch 77: saving model to model/keypoint_classifier\\keypoint_classifier.hdf5\n",
            "76/76 [==============================] - 0s 4ms/step - loss: 0.5262 - accuracy: 0.8095 - val_loss: 0.2164 - val_accuracy: 0.9678\n",
            "Epoch 78/500\n",
            "68/76 [=========================>....] - ETA: 0s - loss: 0.5433 - accuracy: 0.8035\n",
            "Epoch 78: saving model to model/keypoint_classifier\\keypoint_classifier.hdf5\n",
            "76/76 [==============================] - 0s 4ms/step - loss: 0.5405 - accuracy: 0.8037 - val_loss: 0.2188 - val_accuracy: 0.9709\n",
            "Epoch 79/500\n",
            "71/76 [===========================>..] - ETA: 0s - loss: 0.5244 - accuracy: 0.8094\n",
            "Epoch 79: saving model to model/keypoint_classifier\\keypoint_classifier.hdf5\n",
            "76/76 [==============================] - 0s 4ms/step - loss: 0.5240 - accuracy: 0.8099 - val_loss: 0.2201 - val_accuracy: 0.9678\n",
            "Epoch 80/500\n",
            "70/76 [==========================>...] - ETA: 0s - loss: 0.5203 - accuracy: 0.8094\n",
            "Epoch 80: saving model to model/keypoint_classifier\\keypoint_classifier.hdf5\n",
            "76/76 [==============================] - 0s 3ms/step - loss: 0.5117 - accuracy: 0.8122 - val_loss: 0.2153 - val_accuracy: 0.9684\n",
            "Epoch 81/500\n",
            "67/76 [=========================>....] - ETA: 0s - loss: 0.5263 - accuracy: 0.8062\n",
            "Epoch 81: saving model to model/keypoint_classifier\\keypoint_classifier.hdf5\n",
            "76/76 [==============================] - 0s 4ms/step - loss: 0.5235 - accuracy: 0.8064 - val_loss: 0.2148 - val_accuracy: 0.9709\n",
            "Epoch 82/500\n",
            "71/76 [===========================>..] - ETA: 0s - loss: 0.5256 - accuracy: 0.8110\n",
            "Epoch 82: saving model to model/keypoint_classifier\\keypoint_classifier.hdf5\n",
            "76/76 [==============================] - 0s 4ms/step - loss: 0.5263 - accuracy: 0.8095 - val_loss: 0.2198 - val_accuracy: 0.9640\n",
            "Epoch 83/500\n",
            "74/76 [============================>.] - ETA: 0s - loss: 0.5193 - accuracy: 0.8098\n",
            "Epoch 83: saving model to model/keypoint_classifier\\keypoint_classifier.hdf5\n",
            "76/76 [==============================] - 0s 4ms/step - loss: 0.5187 - accuracy: 0.8095 - val_loss: 0.2175 - val_accuracy: 0.9671\n",
            "Epoch 84/500\n",
            "56/76 [=====================>........] - ETA: 0s - loss: 0.5169 - accuracy: 0.8128\n",
            "Epoch 84: saving model to model/keypoint_classifier\\keypoint_classifier.hdf5\n",
            "76/76 [==============================] - 0s 3ms/step - loss: 0.5197 - accuracy: 0.8155 - val_loss: 0.2164 - val_accuracy: 0.9640\n",
            "Epoch 85/500\n",
            "66/76 [=========================>....] - ETA: 0s - loss: 0.5202 - accuracy: 0.8158\n",
            "Epoch 85: saving model to model/keypoint_classifier\\keypoint_classifier.hdf5\n",
            "76/76 [==============================] - 0s 4ms/step - loss: 0.5127 - accuracy: 0.8186 - val_loss: 0.2172 - val_accuracy: 0.9609\n",
            "Epoch 86/500\n",
            "48/76 [=================>............] - ETA: 0s - loss: 0.5185 - accuracy: 0.8167\n",
            "Epoch 86: saving model to model/keypoint_classifier\\keypoint_classifier.hdf5\n",
            "76/76 [==============================] - 0s 3ms/step - loss: 0.5176 - accuracy: 0.8155 - val_loss: 0.2175 - val_accuracy: 0.9678\n",
            "Epoch 87/500\n",
            "51/76 [===================>..........] - ETA: 0s - loss: 0.5213 - accuracy: 0.8067\n",
            "Epoch 87: saving model to model/keypoint_classifier\\keypoint_classifier.hdf5\n",
            "76/76 [==============================] - 0s 3ms/step - loss: 0.5220 - accuracy: 0.8095 - val_loss: 0.2151 - val_accuracy: 0.9721\n",
            "Epoch 88/500\n",
            "49/76 [==================>...........] - ETA: 0s - loss: 0.5154 - accuracy: 0.8087\n",
            "Epoch 88: saving model to model/keypoint_classifier\\keypoint_classifier.hdf5\n",
            "76/76 [==============================] - 0s 3ms/step - loss: 0.5085 - accuracy: 0.8128 - val_loss: 0.2135 - val_accuracy: 0.9709\n",
            "Epoch 89/500\n",
            "71/76 [===========================>..] - ETA: 0s - loss: 0.5149 - accuracy: 0.8147\n",
            "Epoch 89: saving model to model/keypoint_classifier\\keypoint_classifier.hdf5\n",
            "76/76 [==============================] - 0s 4ms/step - loss: 0.5149 - accuracy: 0.8146 - val_loss: 0.2193 - val_accuracy: 0.9690\n",
            "Epoch 90/500\n",
            "73/76 [===========================>..] - ETA: 0s - loss: 0.5012 - accuracy: 0.8247\n",
            "Epoch 90: saving model to model/keypoint_classifier\\keypoint_classifier.hdf5\n",
            "76/76 [==============================] - 0s 4ms/step - loss: 0.4994 - accuracy: 0.8256 - val_loss: 0.2192 - val_accuracy: 0.9659\n",
            "Epoch 91/500\n",
            "73/76 [===========================>..] - ETA: 0s - loss: 0.5330 - accuracy: 0.8042\n",
            "Epoch 91: saving model to model/keypoint_classifier\\keypoint_classifier.hdf5\n",
            "76/76 [==============================] - 0s 3ms/step - loss: 0.5304 - accuracy: 0.8053 - val_loss: 0.2117 - val_accuracy: 0.9709\n",
            "Epoch 92/500\n",
            "73/76 [===========================>..] - ETA: 0s - loss: 0.5269 - accuracy: 0.8061\n",
            "Epoch 92: saving model to model/keypoint_classifier\\keypoint_classifier.hdf5\n",
            "76/76 [==============================] - 0s 3ms/step - loss: 0.5267 - accuracy: 0.8064 - val_loss: 0.2215 - val_accuracy: 0.9671\n",
            "Epoch 93/500\n",
            "48/76 [=================>............] - ETA: 0s - loss: 0.5266 - accuracy: 0.8096\n",
            "Epoch 93: saving model to model/keypoint_classifier\\keypoint_classifier.hdf5\n",
            "76/76 [==============================] - 0s 3ms/step - loss: 0.5185 - accuracy: 0.8109 - val_loss: 0.2141 - val_accuracy: 0.9690\n",
            "Epoch 94/500\n",
            "67/76 [=========================>....] - ETA: 0s - loss: 0.5020 - accuracy: 0.8181\n",
            "Epoch 94: saving model to model/keypoint_classifier\\keypoint_classifier.hdf5\n",
            "76/76 [==============================] - 0s 4ms/step - loss: 0.5097 - accuracy: 0.8169 - val_loss: 0.2043 - val_accuracy: 0.9715\n",
            "Epoch 95/500\n",
            "71/76 [===========================>..] - ETA: 0s - loss: 0.5090 - accuracy: 0.8162\n",
            "Epoch 95: saving model to model/keypoint_classifier\\keypoint_classifier.hdf5\n",
            "76/76 [==============================] - 0s 4ms/step - loss: 0.5093 - accuracy: 0.8171 - val_loss: 0.2129 - val_accuracy: 0.9709\n",
            "Epoch 96/500\n",
            "68/76 [=========================>....] - ETA: 0s - loss: 0.5058 - accuracy: 0.8139\n",
            "Epoch 96: saving model to model/keypoint_classifier\\keypoint_classifier.hdf5\n",
            "76/76 [==============================] - 0s 4ms/step - loss: 0.5129 - accuracy: 0.8130 - val_loss: 0.2101 - val_accuracy: 0.9690\n",
            "Epoch 97/500\n",
            "69/76 [==========================>...] - ETA: 0s - loss: 0.5128 - accuracy: 0.8136\n",
            "Epoch 97: saving model to model/keypoint_classifier\\keypoint_classifier.hdf5\n",
            "76/76 [==============================] - 0s 3ms/step - loss: 0.5196 - accuracy: 0.8115 - val_loss: 0.2157 - val_accuracy: 0.9709\n",
            "Epoch 98/500\n",
            "73/76 [===========================>..] - ETA: 0s - loss: 0.5171 - accuracy: 0.8159\n",
            "Epoch 98: saving model to model/keypoint_classifier\\keypoint_classifier.hdf5\n",
            "76/76 [==============================] - 0s 3ms/step - loss: 0.5176 - accuracy: 0.8159 - val_loss: 0.2090 - val_accuracy: 0.9671\n",
            "Epoch 99/500\n",
            "74/76 [============================>.] - ETA: 0s - loss: 0.5264 - accuracy: 0.8136\n",
            "Epoch 99: saving model to model/keypoint_classifier\\keypoint_classifier.hdf5\n",
            "76/76 [==============================] - 0s 3ms/step - loss: 0.5231 - accuracy: 0.8150 - val_loss: 0.2096 - val_accuracy: 0.9690\n",
            "Epoch 100/500\n",
            "75/76 [============================>.] - ETA: 0s - loss: 0.5273 - accuracy: 0.8092\n",
            "Epoch 100: saving model to model/keypoint_classifier\\keypoint_classifier.hdf5\n",
            "76/76 [==============================] - 0s 4ms/step - loss: 0.5288 - accuracy: 0.8080 - val_loss: 0.2099 - val_accuracy: 0.9684\n",
            "Epoch 101/500\n",
            "56/76 [=====================>........] - ETA: 0s - loss: 0.5205 - accuracy: 0.8142\n",
            "Epoch 101: saving model to model/keypoint_classifier\\keypoint_classifier.hdf5\n",
            "76/76 [==============================] - 0s 3ms/step - loss: 0.5224 - accuracy: 0.8124 - val_loss: 0.2124 - val_accuracy: 0.9684\n",
            "Epoch 102/500\n",
            "69/76 [==========================>...] - ETA: 0s - loss: 0.5182 - accuracy: 0.8173\n",
            "Epoch 102: saving model to model/keypoint_classifier\\keypoint_classifier.hdf5\n",
            "76/76 [==============================] - 0s 3ms/step - loss: 0.5166 - accuracy: 0.8179 - val_loss: 0.2105 - val_accuracy: 0.9684\n",
            "Epoch 103/500\n",
            "68/76 [=========================>....] - ETA: 0s - loss: 0.5193 - accuracy: 0.8139\n",
            "Epoch 103: saving model to model/keypoint_classifier\\keypoint_classifier.hdf5\n",
            "76/76 [==============================] - 0s 4ms/step - loss: 0.5166 - accuracy: 0.8140 - val_loss: 0.2102 - val_accuracy: 0.9653\n",
            "Epoch 104/500\n",
            "71/76 [===========================>..] - ETA: 0s - loss: 0.5077 - accuracy: 0.8121\n",
            "Epoch 104: saving model to model/keypoint_classifier\\keypoint_classifier.hdf5\n",
            "76/76 [==============================] - 0s 3ms/step - loss: 0.5128 - accuracy: 0.8097 - val_loss: 0.2107 - val_accuracy: 0.9696\n",
            "Epoch 105/500\n",
            "73/76 [===========================>..] - ETA: 0s - loss: 0.5246 - accuracy: 0.8074\n",
            "Epoch 105: saving model to model/keypoint_classifier\\keypoint_classifier.hdf5\n",
            "76/76 [==============================] - 0s 3ms/step - loss: 0.5193 - accuracy: 0.8099 - val_loss: 0.2184 - val_accuracy: 0.9665\n",
            "Epoch 106/500\n",
            "49/76 [==================>...........] - ETA: 0s - loss: 0.4924 - accuracy: 0.8198\n",
            "Epoch 106: saving model to model/keypoint_classifier\\keypoint_classifier.hdf5\n",
            "76/76 [==============================] - 0s 3ms/step - loss: 0.4988 - accuracy: 0.8171 - val_loss: 0.2144 - val_accuracy: 0.9702\n",
            "Epoch 107/500\n",
            "52/76 [===================>..........] - ETA: 0s - loss: 0.5161 - accuracy: 0.8176\n",
            "Epoch 107: saving model to model/keypoint_classifier\\keypoint_classifier.hdf5\n",
            "76/76 [==============================] - 0s 3ms/step - loss: 0.5096 - accuracy: 0.8206 - val_loss: 0.2104 - val_accuracy: 0.9690\n",
            "Epoch 108/500\n",
            "46/76 [=================>............] - ETA: 0s - loss: 0.5056 - accuracy: 0.8207\n",
            "Epoch 108: saving model to model/keypoint_classifier\\keypoint_classifier.hdf5\n",
            "76/76 [==============================] - 0s 3ms/step - loss: 0.4962 - accuracy: 0.8229 - val_loss: 0.2046 - val_accuracy: 0.9690\n",
            "Epoch 109/500\n",
            "71/76 [===========================>..] - ETA: 0s - loss: 0.5107 - accuracy: 0.8169\n",
            "Epoch 109: saving model to model/keypoint_classifier\\keypoint_classifier.hdf5\n",
            "76/76 [==============================] - 0s 3ms/step - loss: 0.5116 - accuracy: 0.8177 - val_loss: 0.1998 - val_accuracy: 0.9721\n",
            "Epoch 110/500\n",
            "68/76 [=========================>....] - ETA: 0s - loss: 0.5116 - accuracy: 0.8205\n",
            "Epoch 110: saving model to model/keypoint_classifier\\keypoint_classifier.hdf5\n",
            "76/76 [==============================] - 0s 4ms/step - loss: 0.5095 - accuracy: 0.8217 - val_loss: 0.2090 - val_accuracy: 0.9647\n",
            "Epoch 111/500\n",
            "52/76 [===================>..........] - ETA: 0s - loss: 0.4854 - accuracy: 0.8290\n",
            "Epoch 111: saving model to model/keypoint_classifier\\keypoint_classifier.hdf5\n",
            "76/76 [==============================] - 0s 3ms/step - loss: 0.4777 - accuracy: 0.8330 - val_loss: 0.2038 - val_accuracy: 0.9653\n",
            "Epoch 112/500\n",
            "48/76 [=================>............] - ETA: 0s - loss: 0.5109 - accuracy: 0.8115\n",
            "Epoch 112: saving model to model/keypoint_classifier\\keypoint_classifier.hdf5\n",
            "76/76 [==============================] - 0s 3ms/step - loss: 0.5144 - accuracy: 0.8124 - val_loss: 0.2061 - val_accuracy: 0.9678\n",
            "Epoch 113/500\n",
            "69/76 [==========================>...] - ETA: 0s - loss: 0.5289 - accuracy: 0.8048\n",
            "Epoch 113: saving model to model/keypoint_classifier\\keypoint_classifier.hdf5\n",
            "76/76 [==============================] - 0s 4ms/step - loss: 0.5256 - accuracy: 0.8062 - val_loss: 0.1965 - val_accuracy: 0.9715\n",
            "Epoch 114/500\n",
            "73/76 [===========================>..] - ETA: 0s - loss: 0.5085 - accuracy: 0.8200\n",
            "Epoch 114: saving model to model/keypoint_classifier\\keypoint_classifier.hdf5\n",
            "76/76 [==============================] - 0s 4ms/step - loss: 0.5063 - accuracy: 0.8206 - val_loss: 0.2023 - val_accuracy: 0.9709\n",
            "Epoch 115/500\n",
            "53/76 [===================>..........] - ETA: 0s - loss: 0.4974 - accuracy: 0.8205\n",
            "Epoch 115: saving model to model/keypoint_classifier\\keypoint_classifier.hdf5\n",
            "76/76 [==============================] - 0s 3ms/step - loss: 0.5073 - accuracy: 0.8192 - val_loss: 0.2040 - val_accuracy: 0.9684\n",
            "Epoch 116/500\n",
            "57/76 [=====================>........] - ETA: 0s - loss: 0.4893 - accuracy: 0.8185\n",
            "Epoch 116: saving model to model/keypoint_classifier\\keypoint_classifier.hdf5\n",
            "76/76 [==============================] - 0s 3ms/step - loss: 0.4906 - accuracy: 0.8210 - val_loss: 0.2035 - val_accuracy: 0.9709\n",
            "Epoch 117/500\n",
            "75/76 [============================>.] - ETA: 0s - loss: 0.5279 - accuracy: 0.8096\n",
            "Epoch 117: saving model to model/keypoint_classifier\\keypoint_classifier.hdf5\n",
            "76/76 [==============================] - 0s 3ms/step - loss: 0.5258 - accuracy: 0.8105 - val_loss: 0.2161 - val_accuracy: 0.9678\n",
            "Epoch 118/500\n",
            "75/76 [============================>.] - ETA: 0s - loss: 0.4895 - accuracy: 0.8267\n",
            "Epoch 118: saving model to model/keypoint_classifier\\keypoint_classifier.hdf5\n",
            "76/76 [==============================] - 0s 4ms/step - loss: 0.4897 - accuracy: 0.8268 - val_loss: 0.2017 - val_accuracy: 0.9684\n",
            "Epoch 119/500\n",
            "48/76 [=================>............] - ETA: 0s - loss: 0.5043 - accuracy: 0.8216\n",
            "Epoch 119: saving model to model/keypoint_classifier\\keypoint_classifier.hdf5\n",
            "76/76 [==============================] - 0s 3ms/step - loss: 0.4974 - accuracy: 0.8229 - val_loss: 0.2031 - val_accuracy: 0.9678\n",
            "Epoch 120/500\n",
            "75/76 [============================>.] - ETA: 0s - loss: 0.4776 - accuracy: 0.8285\n",
            "Epoch 120: saving model to model/keypoint_classifier\\keypoint_classifier.hdf5\n",
            "76/76 [==============================] - 0s 4ms/step - loss: 0.4780 - accuracy: 0.8281 - val_loss: 0.1977 - val_accuracy: 0.9665\n",
            "Epoch 121/500\n",
            "65/76 [========================>.....] - ETA: 0s - loss: 0.5018 - accuracy: 0.8226\n",
            "Epoch 121: saving model to model/keypoint_classifier\\keypoint_classifier.hdf5\n",
            "76/76 [==============================] - 0s 4ms/step - loss: 0.5084 - accuracy: 0.8200 - val_loss: 0.2004 - val_accuracy: 0.9702\n",
            "Epoch 122/500\n",
            "69/76 [==========================>...] - ETA: 0s - loss: 0.4911 - accuracy: 0.8229\n",
            "Epoch 122: saving model to model/keypoint_classifier\\keypoint_classifier.hdf5\n",
            "76/76 [==============================] - 0s 3ms/step - loss: 0.4933 - accuracy: 0.8227 - val_loss: 0.1991 - val_accuracy: 0.9702\n",
            "Epoch 123/500\n",
            "73/76 [===========================>..] - ETA: 0s - loss: 0.5024 - accuracy: 0.8176\n",
            "Epoch 123: saving model to model/keypoint_classifier\\keypoint_classifier.hdf5\n",
            "76/76 [==============================] - 0s 4ms/step - loss: 0.5057 - accuracy: 0.8163 - val_loss: 0.2004 - val_accuracy: 0.9702\n",
            "Epoch 124/500\n",
            "73/76 [===========================>..] - ETA: 0s - loss: 0.4895 - accuracy: 0.8256\n",
            "Epoch 124: saving model to model/keypoint_classifier\\keypoint_classifier.hdf5\n",
            "76/76 [==============================] - 0s 4ms/step - loss: 0.4902 - accuracy: 0.8254 - val_loss: 0.1973 - val_accuracy: 0.9715\n",
            "Epoch 125/500\n",
            "75/76 [============================>.] - ETA: 0s - loss: 0.4807 - accuracy: 0.8285\n",
            "Epoch 125: saving model to model/keypoint_classifier\\keypoint_classifier.hdf5\n",
            "76/76 [==============================] - 0s 4ms/step - loss: 0.4801 - accuracy: 0.8291 - val_loss: 0.1978 - val_accuracy: 0.9715\n",
            "Epoch 126/500\n",
            "73/76 [===========================>..] - ETA: 0s - loss: 0.4962 - accuracy: 0.8215\n",
            "Epoch 126: saving model to model/keypoint_classifier\\keypoint_classifier.hdf5\n",
            "76/76 [==============================] - 0s 4ms/step - loss: 0.4941 - accuracy: 0.8219 - val_loss: 0.1991 - val_accuracy: 0.9702\n",
            "Epoch 127/500\n",
            "50/76 [==================>...........] - ETA: 0s - loss: 0.4971 - accuracy: 0.8225\n",
            "Epoch 127: saving model to model/keypoint_classifier\\keypoint_classifier.hdf5\n",
            "76/76 [==============================] - 0s 3ms/step - loss: 0.4795 - accuracy: 0.8308 - val_loss: 0.2004 - val_accuracy: 0.9690\n",
            "Epoch 128/500\n",
            "70/76 [==========================>...] - ETA: 0s - loss: 0.4845 - accuracy: 0.8263\n",
            "Epoch 128: saving model to model/keypoint_classifier\\keypoint_classifier.hdf5\n",
            "76/76 [==============================] - 0s 4ms/step - loss: 0.4833 - accuracy: 0.8272 - val_loss: 0.1997 - val_accuracy: 0.9715\n",
            "Epoch 129/500\n",
            "59/76 [======================>.......] - ETA: 0s - loss: 0.4966 - accuracy: 0.8191\n",
            "Epoch 129: saving model to model/keypoint_classifier\\keypoint_classifier.hdf5\n",
            "76/76 [==============================] - 0s 4ms/step - loss: 0.5011 - accuracy: 0.8175 - val_loss: 0.1941 - val_accuracy: 0.9709\n",
            "Epoch 130/500\n",
            "51/76 [===================>..........] - ETA: 0s - loss: 0.4991 - accuracy: 0.8180\n",
            "Epoch 130: saving model to model/keypoint_classifier\\keypoint_classifier.hdf5\n",
            "76/76 [==============================] - 0s 3ms/step - loss: 0.4973 - accuracy: 0.8175 - val_loss: 0.2087 - val_accuracy: 0.9684\n",
            "Epoch 131/500\n",
            "50/76 [==================>...........] - ETA: 0s - loss: 0.4984 - accuracy: 0.8269\n",
            "Epoch 131: saving model to model/keypoint_classifier\\keypoint_classifier.hdf5\n",
            "76/76 [==============================] - 0s 3ms/step - loss: 0.4933 - accuracy: 0.8281 - val_loss: 0.2094 - val_accuracy: 0.9696\n",
            "Epoch 132/500\n",
            "48/76 [=================>............] - ETA: 0s - loss: 0.4891 - accuracy: 0.8219\n",
            "Epoch 132: saving model to model/keypoint_classifier\\keypoint_classifier.hdf5\n",
            "76/76 [==============================] - 0s 3ms/step - loss: 0.4909 - accuracy: 0.8229 - val_loss: 0.1990 - val_accuracy: 0.9702\n",
            "Epoch 133/500\n",
            "62/76 [=======================>......] - ETA: 0s - loss: 0.4755 - accuracy: 0.8248\n",
            "Epoch 133: saving model to model/keypoint_classifier\\keypoint_classifier.hdf5\n",
            "76/76 [==============================] - 0s 4ms/step - loss: 0.4749 - accuracy: 0.8262 - val_loss: 0.1955 - val_accuracy: 0.9690\n",
            "Epoch 134/500\n",
            "66/76 [=========================>....] - ETA: 0s - loss: 0.5068 - accuracy: 0.8170\n",
            "Epoch 134: saving model to model/keypoint_classifier\\keypoint_classifier.hdf5\n",
            "76/76 [==============================] - 0s 4ms/step - loss: 0.5025 - accuracy: 0.8188 - val_loss: 0.2053 - val_accuracy: 0.9702\n",
            "Epoch 135/500\n",
            "68/76 [=========================>....] - ETA: 0s - loss: 0.5040 - accuracy: 0.8182\n",
            "Epoch 135: saving model to model/keypoint_classifier\\keypoint_classifier.hdf5\n",
            "76/76 [==============================] - 0s 4ms/step - loss: 0.4985 - accuracy: 0.8221 - val_loss: 0.2135 - val_accuracy: 0.9659\n",
            "Epoch 136/500\n",
            "50/76 [==================>...........] - ETA: 0s - loss: 0.4767 - accuracy: 0.8219\n",
            "Epoch 136: saving model to model/keypoint_classifier\\keypoint_classifier.hdf5\n",
            "76/76 [==============================] - 0s 3ms/step - loss: 0.4711 - accuracy: 0.8283 - val_loss: 0.1967 - val_accuracy: 0.9665\n",
            "Epoch 137/500\n",
            "72/76 [===========================>..] - ETA: 0s - loss: 0.5085 - accuracy: 0.8227\n",
            "Epoch 137: saving model to model/keypoint_classifier\\keypoint_classifier.hdf5\n",
            "76/76 [==============================] - 0s 4ms/step - loss: 0.5087 - accuracy: 0.8223 - val_loss: 0.2106 - val_accuracy: 0.9634\n",
            "Epoch 138/500\n",
            "73/76 [===========================>..] - ETA: 0s - loss: 0.4865 - accuracy: 0.8215\n",
            "Epoch 138: saving model to model/keypoint_classifier\\keypoint_classifier.hdf5\n",
            "76/76 [==============================] - 0s 3ms/step - loss: 0.4880 - accuracy: 0.8204 - val_loss: 0.2077 - val_accuracy: 0.9616\n",
            "Epoch 139/500\n",
            "68/76 [=========================>....] - ETA: 0s - loss: 0.4831 - accuracy: 0.8304\n",
            "Epoch 139: saving model to model/keypoint_classifier\\keypoint_classifier.hdf5\n",
            "76/76 [==============================] - 0s 4ms/step - loss: 0.4819 - accuracy: 0.8312 - val_loss: 0.2007 - val_accuracy: 0.9684\n",
            "Epoch 140/500\n",
            "48/76 [=================>............] - ETA: 0s - loss: 0.4954 - accuracy: 0.8242\n",
            "Epoch 140: saving model to model/keypoint_classifier\\keypoint_classifier.hdf5\n",
            "76/76 [==============================] - 0s 3ms/step - loss: 0.4870 - accuracy: 0.8260 - val_loss: 0.1980 - val_accuracy: 0.9659\n",
            "Epoch 141/500\n",
            "73/76 [===========================>..] - ETA: 0s - loss: 0.4900 - accuracy: 0.8228\n",
            "Epoch 141: saving model to model/keypoint_classifier\\keypoint_classifier.hdf5\n",
            "76/76 [==============================] - 0s 3ms/step - loss: 0.4922 - accuracy: 0.8229 - val_loss: 0.2062 - val_accuracy: 0.9678\n",
            "Epoch 142/500\n",
            "72/76 [===========================>..] - ETA: 0s - loss: 0.4786 - accuracy: 0.8257\n",
            "Epoch 142: saving model to model/keypoint_classifier\\keypoint_classifier.hdf5\n",
            "76/76 [==============================] - 0s 4ms/step - loss: 0.4793 - accuracy: 0.8264 - val_loss: 0.2027 - val_accuracy: 0.9671\n",
            "Epoch 143/500\n",
            "53/76 [===================>..........] - ETA: 0s - loss: 0.4666 - accuracy: 0.8317\n",
            "Epoch 143: saving model to model/keypoint_classifier\\keypoint_classifier.hdf5\n",
            "76/76 [==============================] - 0s 3ms/step - loss: 0.4638 - accuracy: 0.8345 - val_loss: 0.1950 - val_accuracy: 0.9678\n",
            "Epoch 144/500\n",
            "51/76 [===================>..........] - ETA: 0s - loss: 0.4657 - accuracy: 0.8367\n",
            "Epoch 144: saving model to model/keypoint_classifier\\keypoint_classifier.hdf5\n",
            "76/76 [==============================] - 0s 3ms/step - loss: 0.4692 - accuracy: 0.8343 - val_loss: 0.1889 - val_accuracy: 0.9702\n",
            "Epoch 145/500\n",
            "76/76 [==============================] - ETA: 0s - loss: 0.5127 - accuracy: 0.8153\n",
            "Epoch 145: saving model to model/keypoint_classifier\\keypoint_classifier.hdf5\n",
            "76/76 [==============================] - 0s 4ms/step - loss: 0.5127 - accuracy: 0.8153 - val_loss: 0.2008 - val_accuracy: 0.9647\n",
            "Epoch 146/500\n",
            "51/76 [===================>..........] - ETA: 0s - loss: 0.4866 - accuracy: 0.8238\n",
            "Epoch 146: saving model to model/keypoint_classifier\\keypoint_classifier.hdf5\n",
            "76/76 [==============================] - 0s 3ms/step - loss: 0.4812 - accuracy: 0.8266 - val_loss: 0.1985 - val_accuracy: 0.9659\n",
            "Epoch 147/500\n",
            "72/76 [===========================>..] - ETA: 0s - loss: 0.5071 - accuracy: 0.8205\n",
            "Epoch 147: saving model to model/keypoint_classifier\\keypoint_classifier.hdf5\n",
            "76/76 [==============================] - 0s 3ms/step - loss: 0.5096 - accuracy: 0.8190 - val_loss: 0.2005 - val_accuracy: 0.9678\n",
            "Epoch 148/500\n",
            "47/76 [=================>............] - ETA: 0s - loss: 0.4737 - accuracy: 0.8275\n",
            "Epoch 148: saving model to model/keypoint_classifier\\keypoint_classifier.hdf5\n",
            "76/76 [==============================] - 0s 3ms/step - loss: 0.4690 - accuracy: 0.8301 - val_loss: 0.2070 - val_accuracy: 0.9640\n",
            "Epoch 149/500\n",
            "56/76 [=====================>........] - ETA: 0s - loss: 0.5052 - accuracy: 0.8178\n",
            "Epoch 149: saving model to model/keypoint_classifier\\keypoint_classifier.hdf5\n",
            "76/76 [==============================] - 0s 3ms/step - loss: 0.5026 - accuracy: 0.8217 - val_loss: 0.1976 - val_accuracy: 0.9690\n",
            "Epoch 150/500\n",
            "74/76 [============================>.] - ETA: 0s - loss: 0.4629 - accuracy: 0.8372\n",
            "Epoch 150: saving model to model/keypoint_classifier\\keypoint_classifier.hdf5\n",
            "76/76 [==============================] - 0s 3ms/step - loss: 0.4624 - accuracy: 0.8376 - val_loss: 0.2009 - val_accuracy: 0.9702\n",
            "Epoch 151/500\n",
            "76/76 [==============================] - ETA: 0s - loss: 0.4769 - accuracy: 0.8289\n",
            "Epoch 151: saving model to model/keypoint_classifier\\keypoint_classifier.hdf5\n",
            "76/76 [==============================] - 0s 3ms/step - loss: 0.4769 - accuracy: 0.8289 - val_loss: 0.1886 - val_accuracy: 0.9684\n",
            "Epoch 152/500\n",
            "76/76 [==============================] - ETA: 0s - loss: 0.4683 - accuracy: 0.8328\n",
            "Epoch 152: saving model to model/keypoint_classifier\\keypoint_classifier.hdf5\n",
            "76/76 [==============================] - 0s 3ms/step - loss: 0.4683 - accuracy: 0.8328 - val_loss: 0.2000 - val_accuracy: 0.9702\n",
            "Epoch 153/500\n",
            "70/76 [==========================>...] - ETA: 0s - loss: 0.4883 - accuracy: 0.8254\n",
            "Epoch 153: saving model to model/keypoint_classifier\\keypoint_classifier.hdf5\n",
            "76/76 [==============================] - 0s 3ms/step - loss: 0.4814 - accuracy: 0.8291 - val_loss: 0.1961 - val_accuracy: 0.9616\n",
            "Epoch 154/500\n",
            "50/76 [==================>...........] - ETA: 0s - loss: 0.4962 - accuracy: 0.8241\n",
            "Epoch 154: saving model to model/keypoint_classifier\\keypoint_classifier.hdf5\n",
            "76/76 [==============================] - 0s 3ms/step - loss: 0.4895 - accuracy: 0.8254 - val_loss: 0.1994 - val_accuracy: 0.9671\n",
            "Epoch 155/500\n",
            "53/76 [===================>..........] - ETA: 0s - loss: 0.4826 - accuracy: 0.8281\n",
            "Epoch 155: saving model to model/keypoint_classifier\\keypoint_classifier.hdf5\n",
            "76/76 [==============================] - 0s 3ms/step - loss: 0.4785 - accuracy: 0.8272 - val_loss: 0.2031 - val_accuracy: 0.9671\n",
            "Epoch 156/500\n",
            "48/76 [=================>............] - ETA: 0s - loss: 0.4696 - accuracy: 0.8418\n",
            "Epoch 156: saving model to model/keypoint_classifier\\keypoint_classifier.hdf5\n",
            "76/76 [==============================] - 0s 3ms/step - loss: 0.4723 - accuracy: 0.8400 - val_loss: 0.2005 - val_accuracy: 0.9690\n",
            "Epoch 157/500\n",
            "74/76 [============================>.] - ETA: 0s - loss: 0.4906 - accuracy: 0.8235\n",
            "Epoch 157: saving model to model/keypoint_classifier\\keypoint_classifier.hdf5\n",
            "76/76 [==============================] - 0s 3ms/step - loss: 0.4869 - accuracy: 0.8256 - val_loss: 0.2005 - val_accuracy: 0.9678\n",
            "Epoch 158/500\n",
            "50/76 [==================>...........] - ETA: 0s - loss: 0.4652 - accuracy: 0.8334\n",
            "Epoch 158: saving model to model/keypoint_classifier\\keypoint_classifier.hdf5\n",
            "76/76 [==============================] - 0s 3ms/step - loss: 0.4845 - accuracy: 0.8293 - val_loss: 0.1999 - val_accuracy: 0.9690\n",
            "Epoch 159/500\n",
            "71/76 [===========================>..] - ETA: 0s - loss: 0.4753 - accuracy: 0.8338\n",
            "Epoch 159: saving model to model/keypoint_classifier\\keypoint_classifier.hdf5\n",
            "76/76 [==============================] - 0s 3ms/step - loss: 0.4787 - accuracy: 0.8314 - val_loss: 0.1962 - val_accuracy: 0.9678\n",
            "Epoch 160/500\n",
            "71/76 [===========================>..] - ETA: 0s - loss: 0.4621 - accuracy: 0.8343\n",
            "Epoch 160: saving model to model/keypoint_classifier\\keypoint_classifier.hdf5\n",
            "76/76 [==============================] - 0s 4ms/step - loss: 0.4655 - accuracy: 0.8326 - val_loss: 0.1935 - val_accuracy: 0.9647\n",
            "Epoch 161/500\n",
            "67/76 [=========================>....] - ETA: 0s - loss: 0.4795 - accuracy: 0.8277\n",
            "Epoch 161: saving model to model/keypoint_classifier\\keypoint_classifier.hdf5\n",
            "76/76 [==============================] - 0s 4ms/step - loss: 0.4771 - accuracy: 0.8291 - val_loss: 0.2017 - val_accuracy: 0.9671\n",
            "Epoch 162/500\n",
            "74/76 [============================>.] - ETA: 0s - loss: 0.4833 - accuracy: 0.8237\n",
            "Epoch 162: saving model to model/keypoint_classifier\\keypoint_classifier.hdf5\n",
            "76/76 [==============================] - 0s 3ms/step - loss: 0.4828 - accuracy: 0.8239 - val_loss: 0.1904 - val_accuracy: 0.9696\n",
            "Epoch 163/500\n",
            "50/76 [==================>...........] - ETA: 0s - loss: 0.4585 - accuracy: 0.8347\n",
            "Epoch 163: saving model to model/keypoint_classifier\\keypoint_classifier.hdf5\n",
            "76/76 [==============================] - 0s 3ms/step - loss: 0.4730 - accuracy: 0.8285 - val_loss: 0.2029 - val_accuracy: 0.9671\n",
            "Epoch 164/500\n",
            "70/76 [==========================>...] - ETA: 0s - loss: 0.4884 - accuracy: 0.8208\n",
            "Epoch 164: saving model to model/keypoint_classifier\\keypoint_classifier.hdf5\n",
            "76/76 [==============================] - 0s 4ms/step - loss: 0.4855 - accuracy: 0.8204 - val_loss: 0.1977 - val_accuracy: 0.9647\n",
            "Epoch 165/500\n",
            "54/76 [====================>.........] - ETA: 0s - loss: 0.4703 - accuracy: 0.8255\n",
            "Epoch 165: saving model to model/keypoint_classifier\\keypoint_classifier.hdf5\n",
            "76/76 [==============================] - 0s 3ms/step - loss: 0.4727 - accuracy: 0.8262 - val_loss: 0.1913 - val_accuracy: 0.9678\n",
            "Epoch 166/500\n",
            "50/76 [==================>...........] - ETA: 0s - loss: 0.4819 - accuracy: 0.8300\n",
            "Epoch 166: saving model to model/keypoint_classifier\\keypoint_classifier.hdf5\n",
            "76/76 [==============================] - 0s 4ms/step - loss: 0.4793 - accuracy: 0.8318 - val_loss: 0.2015 - val_accuracy: 0.9671\n",
            "Epoch 167/500\n",
            "75/76 [============================>.] - ETA: 0s - loss: 0.4551 - accuracy: 0.8369\n",
            "Epoch 167: saving model to model/keypoint_classifier\\keypoint_classifier.hdf5\n",
            "76/76 [==============================] - 0s 4ms/step - loss: 0.4554 - accuracy: 0.8372 - val_loss: 0.1859 - val_accuracy: 0.9709\n",
            "Epoch 168/500\n",
            "73/76 [===========================>..] - ETA: 0s - loss: 0.4777 - accuracy: 0.8305\n",
            "Epoch 168: saving model to model/keypoint_classifier\\keypoint_classifier.hdf5\n",
            "76/76 [==============================] - 0s 4ms/step - loss: 0.4753 - accuracy: 0.8322 - val_loss: 0.2003 - val_accuracy: 0.9653\n",
            "Epoch 169/500\n",
            "56/76 [=====================>........] - ETA: 0s - loss: 0.4765 - accuracy: 0.8362\n",
            "Epoch 169: saving model to model/keypoint_classifier\\keypoint_classifier.hdf5\n",
            "76/76 [==============================] - 0s 3ms/step - loss: 0.4800 - accuracy: 0.8347 - val_loss: 0.1940 - val_accuracy: 0.9671\n",
            "Epoch 170/500\n",
            "76/76 [==============================] - ETA: 0s - loss: 0.4685 - accuracy: 0.8367\n",
            "Epoch 170: saving model to model/keypoint_classifier\\keypoint_classifier.hdf5\n",
            "76/76 [==============================] - 0s 3ms/step - loss: 0.4685 - accuracy: 0.8367 - val_loss: 0.2053 - val_accuracy: 0.9616\n",
            "Epoch 171/500\n",
            "76/76 [==============================] - ETA: 0s - loss: 0.4767 - accuracy: 0.8272\n",
            "Epoch 171: saving model to model/keypoint_classifier\\keypoint_classifier.hdf5\n",
            "76/76 [==============================] - 0s 3ms/step - loss: 0.4767 - accuracy: 0.8272 - val_loss: 0.1889 - val_accuracy: 0.9690\n",
            "Epoch 172/500\n",
            "67/76 [=========================>....] - ETA: 0s - loss: 0.4790 - accuracy: 0.8319\n",
            "Epoch 172: saving model to model/keypoint_classifier\\keypoint_classifier.hdf5\n",
            "76/76 [==============================] - 0s 4ms/step - loss: 0.4802 - accuracy: 0.8316 - val_loss: 0.1911 - val_accuracy: 0.9671\n",
            "Epoch 173/500\n",
            "72/76 [===========================>..] - ETA: 0s - loss: 0.4760 - accuracy: 0.8303\n",
            "Epoch 173: saving model to model/keypoint_classifier\\keypoint_classifier.hdf5\n",
            "76/76 [==============================] - 0s 3ms/step - loss: 0.4770 - accuracy: 0.8297 - val_loss: 0.1885 - val_accuracy: 0.9684\n",
            "Epoch 174/500\n",
            "72/76 [===========================>..] - ETA: 0s - loss: 0.4692 - accuracy: 0.8366\n",
            "Epoch 174: saving model to model/keypoint_classifier\\keypoint_classifier.hdf5\n",
            "76/76 [==============================] - 0s 4ms/step - loss: 0.4705 - accuracy: 0.8353 - val_loss: 0.2013 - val_accuracy: 0.9659\n",
            "Epoch 175/500\n",
            "58/76 [=====================>........] - ETA: 0s - loss: 0.4831 - accuracy: 0.8260\n",
            "Epoch 175: saving model to model/keypoint_classifier\\keypoint_classifier.hdf5\n",
            "76/76 [==============================] - 0s 4ms/step - loss: 0.4834 - accuracy: 0.8277 - val_loss: 0.2018 - val_accuracy: 0.9578\n",
            "Epoch 176/500\n",
            "71/76 [===========================>..] - ETA: 0s - loss: 0.4746 - accuracy: 0.8283\n",
            "Epoch 176: saving model to model/keypoint_classifier\\keypoint_classifier.hdf5\n",
            "76/76 [==============================] - 0s 3ms/step - loss: 0.4768 - accuracy: 0.8287 - val_loss: 0.2032 - val_accuracy: 0.9640\n",
            "Epoch 177/500\n",
            "52/76 [===================>..........] - ETA: 0s - loss: 0.4507 - accuracy: 0.8386\n",
            "Epoch 177: saving model to model/keypoint_classifier\\keypoint_classifier.hdf5\n",
            "76/76 [==============================] - 0s 3ms/step - loss: 0.4569 - accuracy: 0.8349 - val_loss: 0.1898 - val_accuracy: 0.9622\n",
            "Epoch 178/500\n",
            "49/76 [==================>...........] - ETA: 0s - loss: 0.4910 - accuracy: 0.8227\n",
            "Epoch 178: saving model to model/keypoint_classifier\\keypoint_classifier.hdf5\n",
            "76/76 [==============================] - 0s 4ms/step - loss: 0.4867 - accuracy: 0.8252 - val_loss: 0.1908 - val_accuracy: 0.9653\n",
            "Epoch 179/500\n",
            "72/76 [===========================>..] - ETA: 0s - loss: 0.4797 - accuracy: 0.8301\n",
            "Epoch 179: saving model to model/keypoint_classifier\\keypoint_classifier.hdf5\n",
            "76/76 [==============================] - 0s 3ms/step - loss: 0.4813 - accuracy: 0.8301 - val_loss: 0.1936 - val_accuracy: 0.9640\n",
            "Epoch 180/500\n",
            "73/76 [===========================>..] - ETA: 0s - loss: 0.4593 - accuracy: 0.8307\n",
            "Epoch 180: saving model to model/keypoint_classifier\\keypoint_classifier.hdf5\n",
            "76/76 [==============================] - 0s 3ms/step - loss: 0.4598 - accuracy: 0.8310 - val_loss: 0.1902 - val_accuracy: 0.9628\n",
            "Epoch 181/500\n",
            "51/76 [===================>..........] - ETA: 0s - loss: 0.4861 - accuracy: 0.8235\n",
            "Epoch 181: saving model to model/keypoint_classifier\\keypoint_classifier.hdf5\n",
            "76/76 [==============================] - 0s 3ms/step - loss: 0.4862 - accuracy: 0.8225 - val_loss: 0.2023 - val_accuracy: 0.9609\n",
            "Epoch 182/500\n",
            "69/76 [==========================>...] - ETA: 0s - loss: 0.4709 - accuracy: 0.8302\n",
            "Epoch 182: saving model to model/keypoint_classifier\\keypoint_classifier.hdf5\n",
            "76/76 [==============================] - 0s 4ms/step - loss: 0.4668 - accuracy: 0.8332 - val_loss: 0.1946 - val_accuracy: 0.9585\n",
            "Epoch 183/500\n",
            "54/76 [====================>.........] - ETA: 0s - loss: 0.4759 - accuracy: 0.8273\n",
            "Epoch 183: saving model to model/keypoint_classifier\\keypoint_classifier.hdf5\n",
            "76/76 [==============================] - 0s 3ms/step - loss: 0.4795 - accuracy: 0.8303 - val_loss: 0.1935 - val_accuracy: 0.9647\n",
            "Epoch 184/500\n",
            "49/76 [==================>...........] - ETA: 0s - loss: 0.4412 - accuracy: 0.8460\n",
            "Epoch 184: saving model to model/keypoint_classifier\\keypoint_classifier.hdf5\n",
            "76/76 [==============================] - 0s 3ms/step - loss: 0.4571 - accuracy: 0.8405 - val_loss: 0.1969 - val_accuracy: 0.9622\n",
            "Epoch 185/500\n",
            "50/76 [==================>...........] - ETA: 0s - loss: 0.4692 - accuracy: 0.8322\n",
            "Epoch 185: saving model to model/keypoint_classifier\\keypoint_classifier.hdf5\n",
            "76/76 [==============================] - 0s 3ms/step - loss: 0.4713 - accuracy: 0.8338 - val_loss: 0.1901 - val_accuracy: 0.9634\n",
            "Epoch 186/500\n",
            "74/76 [============================>.] - ETA: 0s - loss: 0.4739 - accuracy: 0.8313\n",
            "Epoch 186: saving model to model/keypoint_classifier\\keypoint_classifier.hdf5\n",
            "76/76 [==============================] - 0s 3ms/step - loss: 0.4720 - accuracy: 0.8322 - val_loss: 0.2030 - val_accuracy: 0.9609\n",
            "Epoch 187/500\n",
            "72/76 [===========================>..] - ETA: 0s - loss: 0.4758 - accuracy: 0.8299\n",
            "Epoch 187: saving model to model/keypoint_classifier\\keypoint_classifier.hdf5\n",
            "76/76 [==============================] - 0s 4ms/step - loss: 0.4788 - accuracy: 0.8281 - val_loss: 0.1969 - val_accuracy: 0.9634\n",
            "Epoch 187: early stopping\n"
          ]
        },
        {
          "data": {
            "text/plain": [
              "<keras.callbacks.History at 0x2dca4459c90>"
            ]
          },
          "execution_count": 33,
          "metadata": {},
          "output_type": "execute_result"
        }
      ],
      "source": [
        "model.fit(\n",
        "    X_train,\n",
        "    y_train,\n",
        "    epochs=500,\n",
        "    batch_size=64,\n",
        "    validation_data=(X_test, y_test),\n",
        "    callbacks=[cp_callback, es_callback]\n",
        ")"
      ]
    },
    {
      "cell_type": "code",
      "execution_count": 34,
      "metadata": {
        "colab": {
          "base_uri": "https://localhost:8080/"
        },
        "id": "pxvb2Y299hE3",
        "outputId": "59eb3185-2e37-4b9e-bc9d-ab1b8ac29b7f"
      },
      "outputs": [
        {
          "name": "stdout",
          "output_type": "stream",
          "text": [
            "13/13 [==============================] - 0s 1ms/step - loss: 0.1969 - accuracy: 0.9634\n"
          ]
        }
      ],
      "source": [
        "# Model evaluation\n",
        "val_loss, val_acc = model.evaluate(X_test, y_test, batch_size=128)"
      ]
    },
    {
      "cell_type": "code",
      "execution_count": 35,
      "metadata": {
        "id": "RBkmDeUW9hE4"
      },
      "outputs": [],
      "source": [
        "# Loading the saved model\n",
        "model = tf.keras.models.load_model(model_save_path)"
      ]
    },
    {
      "cell_type": "code",
      "execution_count": 36,
      "metadata": {
        "colab": {
          "base_uri": "https://localhost:8080/"
        },
        "id": "tFz9Tb0I9hE4",
        "outputId": "1c3b3528-54ae-4ee2-ab04-77429211cbef"
      },
      "outputs": [
        {
          "name": "stdout",
          "output_type": "stream",
          "text": [
            "1/1 [==============================] - 0s 80ms/step\n",
            "[2.4109198e-02 3.0751884e-02 9.4374090e-01 6.5461628e-04 7.4344955e-04]\n",
            "2\n"
          ]
        }
      ],
      "source": [
        "# Inference test\n",
        "predict_result = model.predict(np.array([X_test[0]]))\n",
        "print(np.squeeze(predict_result))\n",
        "print(np.argmax(np.squeeze(predict_result)))"
      ]
    },
    {
      "cell_type": "markdown",
      "metadata": {
        "id": "S3U4yNWx9hE4"
      },
      "source": [
        "# Confusion matrix"
      ]
    },
    {
      "cell_type": "code",
      "execution_count": 37,
      "metadata": {
        "colab": {
          "base_uri": "https://localhost:8080/",
          "height": 582
        },
        "id": "AP1V6SCk9hE5",
        "outputId": "08e41a80-7a4a-4619-8125-ecc371368d19"
      },
      "outputs": [
        {
          "name": "stdout",
          "output_type": "stream",
          "text": [
            "51/51 [==============================] - 0s 2ms/step\n"
          ]
        },
        {
          "data": {
            "image/png": "[encoded data removed]",
            "text/plain": [
              "<Figure size 504x432 with 2 Axes>"
            ]
          },
          "metadata": {
            "needs_background": "light"
          },
          "output_type": "display_data"
        },
        {
          "name": "stdout",
          "output_type": "stream",
          "text": [
            "Classification Report\n",
            "              precision    recall  f1-score   support\n",
            "\n",
            "           0       0.97      0.97      0.97       416\n",
            "           1       0.97      0.92      0.95       383\n",
            "           2       0.96      0.98      0.97       586\n",
            "           3       1.00      0.94      0.97        85\n",
            "           4       0.94      0.99      0.96       143\n",
            "\n",
            "    accuracy                           0.96      1613\n",
            "   macro avg       0.97      0.96      0.96      1613\n",
            "weighted avg       0.96      0.96      0.96      1613\n",
            "\n"
          ]
        }
      ],
      "source": [
        "import pandas as pd\n",
        "import seaborn as sns\n",
        "import matplotlib.pyplot as plt\n",
        "from sklearn.metrics import confusion_matrix, classification_report\n",
        "\n",
        "def print_confusion_matrix(y_true, y_pred, report=True):\n",
        "    labels = sorted(list(set(y_true)))\n",
        "    cmx_data = confusion_matrix(y_true, y_pred, labels=labels)\n",
        "    \n",
        "    df_cmx = pd.DataFrame(cmx_data, index=labels, columns=labels)\n",
        " \n",
        "    fig, ax = plt.subplots(figsize=(7, 6))\n",
        "    sns.heatmap(df_cmx, annot=True, fmt='g' ,square=False)\n",
        "    ax.set_ylim(len(set(y_true)), 0)\n",
        "    plt.show()\n",
        "    \n",
        "    if report:\n",
        "        print('Classification Report')\n",
        "        print(classification_report(y_test, y_pred))\n",
        "\n",
        "Y_pred = model.predict(X_test)\n",
        "y_pred = np.argmax(Y_pred, axis=1)\n",
        "\n",
        "print_confusion_matrix(y_test, y_pred)"
      ]
    },
    {
      "cell_type": "markdown",
      "metadata": {
        "id": "FNP6aqzc9hE5"
      },
      "source": [
        "# Convert to model for Tensorflow-Lite"
      ]
    },
    {
      "cell_type": "code",
      "execution_count": 38,
      "metadata": {
        "id": "ODjnYyld9hE6"
      },
      "outputs": [],
      "source": [
        "# Save as a model dedicated to inference\n",
        "model.save(model_save_path, include_optimizer=False)"
      ]
    },
    {
      "cell_type": "code",
      "execution_count": 39,
      "metadata": {
        "colab": {
          "base_uri": "https://localhost:8080/"
        },
        "id": "zRfuK8Y59hE6",
        "outputId": "a4ca585c-b5d5-4244-8291-8674063209bb"
      },
      "outputs": [
        {
          "name": "stderr",
          "output_type": "stream",
          "text": [
            "WARNING:absl:Found untraced functions such as _update_step_xla while saving (showing 1 of 1). These functions will not be directly callable after loading.\n"
          ]
        },
        {
          "name": "stdout",
          "output_type": "stream",
          "text": [
            "INFO:tensorflow:Assets written to: C:\\Users\\DELL\\AppData\\Local\\Temp\\tmpubjf2cx5\\assets\n"
          ]
        },
        {
          "name": "stderr",
          "output_type": "stream",
          "text": [
            "INFO:tensorflow:Assets written to: C:\\Users\\DELL\\AppData\\Local\\Temp\\tmpubjf2cx5\\assets\n"
          ]
        },
        {
          "data": {
            "text/plain": [
              "6616"
            ]
          },
          "execution_count": 39,
          "metadata": {},
          "output_type": "execute_result"
        }
      ],
      "source": [
        "# Transform model (quantization)\n",
        "\n",
        "converter = tf.lite.TFLiteConverter.from_keras_model(model)\n",
        "converter.optimizations = [tf.lite.Optimize.DEFAULT]\n",
        "tflite_quantized_model = converter.convert()\n",
        "\n",
        "open(tflite_save_path, 'wb').write(tflite_quantized_model)"
      ]
    },
    {
      "cell_type": "markdown",
      "metadata": {
        "id": "CHBPBXdx9hE6"
      },
      "source": [
        "# Inference test"
      ]
    },
    {
      "cell_type": "code",
      "execution_count": 40,
      "metadata": {
        "id": "mGAzLocO9hE7"
      },
      "outputs": [],
      "source": [
        "interpreter = tf.lite.Interpreter(model_path=tflite_save_path)\n",
        "interpreter.allocate_tensors()"
      ]
    },
    {
      "cell_type": "code",
      "execution_count": 41,
      "metadata": {
        "id": "oQuDK8YS9hE7"
      },
      "outputs": [],
      "source": [
        "# Get I / O tensor\n",
        "input_details = interpreter.get_input_details()\n",
        "output_details = interpreter.get_output_details()"
      ]
    },
    {
      "cell_type": "code",
      "execution_count": 42,
      "metadata": {
        "id": "2_ixAf_l9hE7"
      },
      "outputs": [],
      "source": [
        "interpreter.set_tensor(input_details[0]['index'], np.array([X_test[0]]))"
      ]
    },
    {
      "cell_type": "code",
      "execution_count": 43,
      "metadata": {
        "colab": {
          "base_uri": "https://localhost:8080/"
        },
        "id": "s4FoAnuc9hE7",
        "outputId": "91f18257-8d8b-4ef3-c558-e9b5f94fabbf",
        "scrolled": true
      },
      "outputs": [
        {
          "name": "stdout",
          "output_type": "stream",
          "text": [
            "CPU times: total: 0 ns\n",
            "Wall time: 4.49 ms\n"
          ]
        }
      ],
      "source": [
        "%%time\n",
        "# Inference implementation\n",
        "interpreter.invoke()\n",
        "tflite_results = interpreter.get_tensor(output_details[0]['index'])"
      ]
    },
    {
      "cell_type": "code",
      "execution_count": 44,
      "metadata": {
        "colab": {
          "base_uri": "https://localhost:8080/"
        },
        "id": "vONjp19J9hE8",
        "outputId": "77205e24-fd00-42c4-f7b6-e06e527c2cba"
      },
      "outputs": [
        {
          "name": "stdout",
          "output_type": "stream",
          "text": [
            "[2.4109194e-02 3.0751856e-02 9.4374090e-01 6.5461436e-04 7.4344670e-04]\n",
            "2\n"
          ]
        }
      ],
      "source": [
        "print(np.squeeze(tflite_results))\n",
        "print(np.argmax(np.squeeze(tflite_results)))"
      ]
    }
  ],
  "metadata": {
    "accelerator": "GPU",
    "colab": {
      "collapsed_sections": [],
      "name": "keypoint_classification_EN.ipynb",
      "provenance": [],
      "toc_visible": true
    },
    "kernelspec": {
      "display_name": "Python 3.10.4 64-bit",
      "language": "python",
      "name": "python3"
    },
    "language_info": {
      "codemirror_mode": {
        "name": "ipython",
        "version": 3
      },
      "file_extension": ".py",
      "mimetype": "text/x-python",
      "name": "python",
      "nbconvert_exporter": "python",
      "pygments_lexer": "ipython3",
      "version": "3.10.4"
    },
    "vscode": {
      "interpreter": {
        "hash": "fbc768028c3e6ead51d9a200ddcb2ec858ae62844dcd1994729a8279be9b48f2"
      }
    }
  },
  "nbformat": 4,
  "nbformat_minor": 0
}
